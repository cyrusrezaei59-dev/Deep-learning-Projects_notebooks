{
  "nbformat": 4,
  "nbformat_minor": 0,
  "metadata": {
    "colab": {
      "name": "HW4_DL (2).ipynb",
      "provenance": [],
      "collapsed_sections": [],
      "toc_visible": true
    },
    "kernelspec": {
      "name": "python3",
      "display_name": "Python 3"
    },
    "accelerator": "GPU"
  },
  "cells": [
    {
      "cell_type": "markdown",
      "metadata": {
        "id": "S4Iui5UetZvC"
      },
      "source": [
        "#**Deep Learning Homework 4: Recurrent Neural Networks & Transformer**\n",
        "\n",
        "### MSc Computer Science, Data Science, Cybersecurity @UniPD\n",
        "### 2nd semester - 6 ECTS\n",
        "### Prof. Nicolò Navarin & Prof. Alessandro Sperduti\n",
        "---\n",
        "In this homework, we will explore how to develop a simple Recurrent Neural Network (RNN) for sentiment analysis. We will use the IMDB dataset---it contains the text of some reviews and the sentiment given by their authors (either positive or negative). The input to the RNN is the sequence of words that compose a review, so the learning task consists in predicting the overall sentiment of the review.\n",
        "In the first part, we will learn how to develop a simple RNN, then we will explore the differences in terms of computational load, number of parameters, and performances with respect to more advanced recurrent models, like LSTM and GRU. Subsequently, we experiment with the bi-directional model to unveil the strengths and the weaknesses of this technique. Finally, we will solve the same classification problem with a Transformer, in order to have a closer look at its internal functioning.\n",
        "\n",
        "**NOTE**: in order to run this notebook without problems, please connect to a *GPU runtime*. You can do so by clicking on the RAM / Disk icon in the upper right part of the notebook, then on *Change runtime tipe* at the bottom of the page, and then select the GPU hardware accelerator.  "
      ]
    },
    {
      "cell_type": "markdown",
      "metadata": {
        "id": "WTXPA4gUKkpp"
      },
      "source": [
        "##Exercise 4.1: Simple RNN\n",
        "\n",
        "Let's start by importing Tensorflow, Keras and Numpy"
      ]
    },
    {
      "cell_type": "code",
      "metadata": {
        "id": "G-hX557NDQ9s"
      },
      "source": [
        "import numpy as np\n",
        "import tensorflow as tf\n",
        "from tensorflow import keras\n",
        "import matplotlib.pyplot as plt\n",
        "\n",
        "np.random.seed(42)"
      ],
      "execution_count": 1,
      "outputs": []
    },
    {
      "cell_type": "markdown",
      "metadata": {
        "id": "qZxFjnG7Kuwi"
      },
      "source": [
        "###Load dataset:\n",
        "In this HW, we use the same datset used in the HW2, the IMDB dataset. The dataset contains 50,000 movie reviews from IMDB, labeled by sentiment (positive/negative). Reviews have been preprocessed, and each review is encoded as a sequence of word indexes. For convenience, the words are indexed by the overall frequency in the dataset, so that for example the integer \"3\" encodes the 3rd most frequent word in the data. For testing purposes, we will only consider the first 10,000  most common words.\n",
        "By default, the load_data method returns a breakdown of the dataset into training and test sets. Both these sets contain 25,000 samples. To also have a validation set, we split the test set in half."
      ]
    },
    {
      "cell_type": "code",
      "metadata": {
        "id": "NpaX6AGOD77D",
        "colab": {
          "base_uri": "https://localhost:8080/"
        },
        "outputId": "7efbe14c-9822-4405-dcbf-2e5b40683fe7"
      },
      "source": [
        "num_words = 10000\n",
        "(X_train, y_train), (X_test, y_test) = keras.datasets.imdb.load_data(num_words=num_words)\n",
        "(X_valid, X_test) = X_test[:12500], X_test[12500:]\n",
        "(y_valid, y_test) = y_test[:12500], y_test[12500:]"
      ],
      "execution_count": 2,
      "outputs": [
        {
          "output_type": "stream",
          "name": "stdout",
          "text": [
            "Downloading data from https://storage.googleapis.com/tensorflow/tf-keras-datasets/imdb.npz\n",
            "17465344/17464789 [==============================] - 0s 0us/step\n",
            "17473536/17464789 [==============================] - 0s 0us/step\n"
          ]
        }
      ]
    },
    {
      "cell_type": "markdown",
      "metadata": {
        "id": "FZHxa95qQ0jb"
      },
      "source": [
        "Let's also get the word indexs (word to word-id)"
      ]
    },
    {
      "cell_type": "code",
      "metadata": {
        "id": "LszZMh45X8Wz",
        "colab": {
          "base_uri": "https://localhost:8080/"
        },
        "outputId": "bd46e0dd-bcef-453d-9b62-5aad082692d0"
      },
      "source": [
        "word_index = keras.datasets.imdb.get_word_index()"
      ],
      "execution_count": 3,
      "outputs": [
        {
          "output_type": "stream",
          "name": "stdout",
          "text": [
            "Downloading data from https://storage.googleapis.com/tensorflow/tf-keras-datasets/imdb_word_index.json\n",
            "1646592/1641221 [==============================] - 0s 0us/step\n",
            "1654784/1641221 [==============================] - 0s 0us/step\n"
          ]
        }
      ]
    },
    {
      "cell_type": "markdown",
      "metadata": {
        "id": "SxLLVb5mRc0v"
      },
      "source": [
        "Now we create a reverse index (word-id to word) method. Moreover, we add three special word-ids to encode:\n",
        "- the padding;\n",
        "- the start of a sequence;\n",
        "- a word that is not in the vocabulary of the first 10,000 most common words.\n",
        "\n",
        "Moreover, we also add an \"unknown\" placeholder for all the other symbols (not words) that may occur. Notice that Keras does not use index 0, so we can shift the indices only by 3 positions."
      ]
    },
    {
      "cell_type": "code",
      "metadata": {
        "id": "NeZwDtDjYFt3"
      },
      "source": [
        "reverse_index = {word_id + 3: word for word, word_id in word_index.items()}\n",
        "reverse_index[0] = \"<pad>\" # padding\n",
        "reverse_index[1] = \"<sos>\" # start of sequence\n",
        "reverse_index[2] = \"<oov>\" # out-of-vocabulary\n",
        "reverse_index[3] = \"<unk>\" # unknown\n",
        "\n",
        "def decode_review(word_ids):\n",
        "    return \" \".join([reverse_index.get(word_id, \"<err>\") for word_id in word_ids])"
      ],
      "execution_count": 4,
      "outputs": []
    },
    {
      "cell_type": "markdown",
      "metadata": {
        "id": "iIMY115nRzXQ"
      },
      "source": [
        "Let's print a training sample and its target value"
      ]
    },
    {
      "cell_type": "code",
      "metadata": {
        "id": "jnBRMiZJYQpm",
        "colab": {
          "base_uri": "https://localhost:8080/",
          "height": 140
        },
        "outputId": "cffbb3f8-8816-43ef-ebe7-16cc4b1960cf"
      },
      "source": [
        "decode_review(X_train[0])"
      ],
      "execution_count": 5,
      "outputs": [
        {
          "output_type": "execute_result",
          "data": {
            "text/plain": [
              "\"<sos> this film was just brilliant casting location scenery story direction everyone's really suited the part they played and you could just imagine being there robert <oov> is an amazing actor and now the same being director <oov> father came from the same scottish island as myself so i loved the fact there was a real connection with this film the witty remarks throughout the film were great it was just brilliant so much that i bought the film as soon as it was released for <oov> and would recommend it to everyone to watch and the fly fishing was amazing really cried at the end it was so sad and you know what they say if you cry at a film it must have been good and this definitely was also <oov> to the two little boy's that played the <oov> of norman and paul they were just brilliant children are often left out of the <oov> list i think because the stars that play them all grown up are such a big profile for the whole film but these children are amazing and should be praised for what they have done don't you think the whole story was so lovely because it was true and was someone's life after all that was shared with us all\""
            ],
            "application/vnd.google.colaboratory.intrinsic+json": {
              "type": "string"
            }
          },
          "metadata": {},
          "execution_count": 5
        }
      ]
    },
    {
      "cell_type": "code",
      "metadata": {
        "id": "J1tzUWldYT8X",
        "colab": {
          "base_uri": "https://localhost:8080/"
        },
        "outputId": "b13a4cc2-1288-405a-c021-595791b12315"
      },
      "source": [
        "y_train[0]"
      ],
      "execution_count": 6,
      "outputs": [
        {
          "output_type": "execute_result",
          "data": {
            "text/plain": [
              "1"
            ]
          },
          "metadata": {},
          "execution_count": 6
        }
      ]
    },
    {
      "cell_type": "markdown",
      "metadata": {
        "id": "0O7x_P0IqihK"
      },
      "source": [
        "Because of a limit of Keras, to feed the input data into an RNN model we have to create sequences that have the same length. We use keras.preprocessing.sequence.pad_sequences() to preprocess X_train: this will create a 2D array of 25,000 rows (one per review) and maxlen=500 columns. Because of that, reviews longer than 500 words will be cut, while reviews shorter than 500 words will be padded with zeros."
      ]
    },
    {
      "cell_type": "code",
      "metadata": {
        "id": "wtMUMGMUYdAA"
      },
      "source": [
        "maxlen = 500\n",
        "X_train_trim = keras.preprocessing.sequence.pad_sequences(X_train, maxlen=maxlen)\n",
        "X_test_trim = keras.preprocessing.sequence.pad_sequences(X_test, maxlen=maxlen)\n",
        "X_valid_trim = keras.preprocessing.sequence.pad_sequences(X_valid, maxlen=maxlen)"
      ],
      "execution_count": 7,
      "outputs": []
    },
    {
      "cell_type": "markdown",
      "metadata": {
        "id": "-jLxP0KW1104"
      },
      "source": [
        "### Model Definition\n",
        "Let's define the model: \n",
        "- The first layer is an Embedding layer, with input_dim=num_words and output_dim=10. The model will gradually learn to represent each of the 10,000 words as a 10-dimensional vector. So the next layer will receive 3D batches of shape (batch size, 500, 10)\n",
        "- The second layer is the recurrent one. In particular, in this case, we use a [SimpleRNN](https://www.tensorflow.org/api_docs/python/tf/keras/layers/SimpleRNN) \n",
        "- The output layer \n",
        "\n",
        "**[TO COMPLETE]** In the following cell, we already inserted in the model the first Embedding layer. Add the recurrent layer (using 32 units), and the output layer. Select the right activation function for the output layer and motivate your choice. Finally, select the right loss function inserting the right value for the \"loss\" parameter in `model.compile()` and motivate your choice.\n"
      ]
    },
    {
      "cell_type": "markdown",
      "source": [
        "Please, insert your answer in this text cell.\n",
        "\n",
        "**Answer:** [TO COMPLETE]: What we expect from our neural network in this simple task is that to give us $P(Y \\mid S)$ which $S$ is the input string. since the Y is distributed with bernuli distribution, and the out put is binary, the right activation function for the output layer is sigmoid function. For this reasons, the right loss function is binary crossentropy."
      ],
      "metadata": {
        "id": "RtnsfSkOs3r7"
      }
    },
    {
      "cell_type": "code",
      "metadata": {
        "id": "xPnihHKiYf__"
      },
      "source": [
        "model = keras.models.Sequential()\n",
        "model.add(keras.layers.Embedding(input_dim=num_words, output_dim=10))\n",
        "model.add(keras.layers.SimpleRNN(units=32, activation=\"relu\"))\n",
        "model.add(keras.layers.Dense(1, activation=\"sigmoid\"))\n",
        "\n",
        "model.compile(loss=\"binary_crossentropy\", optimizer=\"adam\", metrics=[\"accuracy\"])"
      ],
      "execution_count": 24,
      "outputs": []
    },
    {
      "cell_type": "markdown",
      "metadata": {
        "id": "9IBNh_o2I2SN"
      },
      "source": [
        "Let's print a summary of the model. Specifically, note the number of parameters of the RNN layer."
      ]
    },
    {
      "cell_type": "code",
      "metadata": {
        "id": "6AKJ1qsgYkH7",
        "colab": {
          "base_uri": "https://localhost:8080/"
        },
        "outputId": "d9df4733-e576-4b7d-f41a-06fa11982663"
      },
      "source": [
        "model.summary()"
      ],
      "execution_count": 25,
      "outputs": [
        {
          "output_type": "stream",
          "name": "stdout",
          "text": [
            "Model: \"sequential_12\"\n",
            "_________________________________________________________________\n",
            " Layer (type)                Output Shape              Param #   \n",
            "=================================================================\n",
            " embedding_12 (Embedding)    (None, None, 10)          100000    \n",
            "                                                                 \n",
            " simple_rnn_1 (SimpleRNN)    (None, 32)                1376      \n",
            "                                                                 \n",
            " dense_12 (Dense)            (None, 1)                 33        \n",
            "                                                                 \n",
            "=================================================================\n",
            "Total params: 101,409\n",
            "Trainable params: 101,409\n",
            "Non-trainable params: 0\n",
            "_________________________________________________________________\n"
          ]
        }
      ]
    },
    {
      "cell_type": "markdown",
      "metadata": {
        "id": "eTrvel3KRkYy"
      },
      "source": [
        "Now we have to train the model:"
      ]
    },
    {
      "cell_type": "code",
      "metadata": {
        "id": "zCqSgX9WYmaR",
        "colab": {
          "base_uri": "https://localhost:8080/"
        },
        "outputId": "427b3148-f965-4911-b5aa-cae441284e8d"
      },
      "source": [
        "history = model.fit(X_train_trim, y_train,\n",
        "                    epochs=10, batch_size=128, validation_data=(X_valid_trim, y_valid))"
      ],
      "execution_count": 26,
      "outputs": [
        {
          "output_type": "stream",
          "name": "stdout",
          "text": [
            "Epoch 1/10\n",
            "196/196 [==============================] - 92s 467ms/step - loss: 0.6655 - accuracy: 0.6060 - val_loss: 0.5170 - val_accuracy: 0.7491\n",
            "Epoch 2/10\n",
            "196/196 [==============================] - 93s 472ms/step - loss: 0.4160 - accuracy: 0.8190 - val_loss: 0.3528 - val_accuracy: 0.8513\n",
            "Epoch 3/10\n",
            "196/196 [==============================] - 90s 460ms/step - loss: 0.2702 - accuracy: 0.8907 - val_loss: 0.3237 - val_accuracy: 0.8582\n",
            "Epoch 4/10\n",
            "196/196 [==============================] - 92s 470ms/step - loss: 0.2041 - accuracy: 0.9215 - val_loss: 0.3231 - val_accuracy: 0.8646\n",
            "Epoch 5/10\n",
            "196/196 [==============================] - 93s 477ms/step - loss: 0.1810 - accuracy: 0.9334 - val_loss: 0.3324 - val_accuracy: 0.8704\n",
            "Epoch 6/10\n",
            "196/196 [==============================] - 90s 460ms/step - loss: 0.1522 - accuracy: 0.9444 - val_loss: 0.5654 - val_accuracy: 0.8416\n",
            "Epoch 7/10\n",
            "196/196 [==============================] - 91s 465ms/step - loss: 0.1263 - accuracy: 0.9549 - val_loss: 0.3775 - val_accuracy: 0.8703\n",
            "Epoch 8/10\n",
            "196/196 [==============================] - 91s 464ms/step - loss: 0.1377 - accuracy: 0.9494 - val_loss: 0.4526 - val_accuracy: 0.8526\n",
            "Epoch 9/10\n",
            "196/196 [==============================] - 92s 468ms/step - loss: 0.1043 - accuracy: 0.9626 - val_loss: 0.5603 - val_accuracy: 0.8514\n",
            "Epoch 10/10\n",
            "196/196 [==============================] - 91s 463ms/step - loss: 0.1369 - accuracy: 0.9477 - val_loss: 0.4792 - val_accuracy: 0.8434\n"
          ]
        }
      ]
    },
    {
      "cell_type": "markdown",
      "metadata": {
        "id": "4Fvscg67R4H1"
      },
      "source": [
        "Print the values of accuracy and the loss , and evaluate the model on the test set"
      ]
    },
    {
      "cell_type": "code",
      "metadata": {
        "id": "GKXRHieZbu-2",
        "colab": {
          "base_uri": "https://localhost:8080/",
          "height": 798
        },
        "outputId": "1c4fd5c2-df16-4fd7-95dc-19e8498f106f"
      },
      "source": [
        "def plot_loss(history):\n",
        "  plt.figure(figsize=(10,6))\n",
        "  plt.plot(history.epoch, history.history['loss'])\n",
        "  plt.plot(history.epoch, history.history['val_loss'])\n",
        "  plt.title('loss')\n",
        "\n",
        "def plot_accuracy(history):\n",
        "  plt.figure(figsize=(10,6))\n",
        "  plt.plot(history.epoch, history.history['accuracy'])\n",
        "  plt.plot(history.epoch, history.history['val_accuracy'])\n",
        "  plt.title('accuracy')\n",
        "\n",
        "plot_loss(history)\n",
        "\n",
        "plot_accuracy(history)\n",
        "\n",
        "scores = model.evaluate(X_test_trim, y_test, verbose=2)\n",
        "print(\"%s: %.2f%%\" % (model.metrics_names[1], scores[1]*100))"
      ],
      "execution_count": 27,
      "outputs": [
        {
          "output_type": "stream",
          "name": "stdout",
          "text": [
            "391/391 - 14s - loss: 0.4457 - accuracy: 0.8474 - 14s/epoch - 35ms/step\n",
            "accuracy: 84.74%\n"
          ]
        },
        {
          "output_type": "display_data",
          "data": {
            "text/plain": [
              "<Figure size 720x432 with 1 Axes>"
            ],
            "image/png": "[encoded data removed]"
          },
          "metadata": {
            "needs_background": "light"
          }
        },
        {
          "output_type": "display_data",
          "data": {
            "text/plain": [
              "<Figure size 720x432 with 1 Axes>"
            ],
            "image/png": "[encoded data removed]"
          },
          "metadata": {
            "needs_background": "light"
          }
        }
      ]
    },
    {
      "cell_type": "markdown",
      "metadata": {
        "id": "BHc_4yOASBXu"
      },
      "source": [
        "## Exercise 4.2: LSTM and GRU\n",
        "**[TO COMPLETE]**: In this Exercise, you have to implement 2 models, similar to the previous one that, instead of exploiting the RNN layer, use an LSTM and a GRU Layer respectively. For each model print the summary. Then, train it and plot the values of accuracy and loss. Finally, discuss the differences in terms of performance, the number of parameters, and training time. Note that you can use a different number of units than the one used in the RNN example."
      ]
    },
    {
      "cell_type": "code",
      "source": [
        "# LSTM - complete with model definition, summary, fit and plots.\n",
        "\n",
        "\n",
        "model1 = keras.models.Sequential()\n",
        "model1.add(keras.layers.Embedding(input_dim=num_words, output_dim=10))\n",
        "model1.add(keras.layers.LSTM(units=14))\n",
        "model1.add(keras.layers.Dense(1, activation=\"sigmoid\"))\n",
        "\n",
        "model1.compile(loss=\"binary_crossentropy\", optimizer=\"adam\", metrics=[\"accuracy\"])\n",
        "model1.summary()"
      ],
      "metadata": {
        "id": "Uc-l436osebp",
        "colab": {
          "base_uri": "https://localhost:8080/"
        },
        "outputId": "59a6bf24-e326-45a2-9edf-5abefbe9349d"
      },
      "execution_count": 31,
      "outputs": [
        {
          "output_type": "stream",
          "name": "stdout",
          "text": [
            "Model: \"sequential_14\"\n",
            "_________________________________________________________________\n",
            " Layer (type)                Output Shape              Param #   \n",
            "=================================================================\n",
            " embedding_14 (Embedding)    (None, None, 10)          100000    \n",
            "                                                                 \n",
            " lstm_3 (LSTM)               (None, 14)                1400      \n",
            "                                                                 \n",
            " dense_14 (Dense)            (None, 1)                 15        \n",
            "                                                                 \n",
            "=================================================================\n",
            "Total params: 101,415\n",
            "Trainable params: 101,415\n",
            "Non-trainable params: 0\n",
            "_________________________________________________________________\n"
          ]
        }
      ]
    },
    {
      "cell_type": "code",
      "source": [
        "history = model1.fit(X_train_trim, y_train,\n",
        "                    epochs=10, batch_size=128, validation_data=(X_valid_trim, y_valid))"
      ],
      "metadata": {
        "colab": {
          "base_uri": "https://localhost:8080/"
        },
        "id": "jbokJuf2KT2x",
        "outputId": "14318032-4d87-43a5-93ed-1d09d4cd300f"
      },
      "execution_count": 32,
      "outputs": [
        {
          "output_type": "stream",
          "name": "stdout",
          "text": [
            "Epoch 1/10\n",
            "196/196 [==============================] - 6s 25ms/step - loss: 0.5506 - accuracy: 0.7261 - val_loss: 0.3985 - val_accuracy: 0.8360\n",
            "Epoch 2/10\n",
            "196/196 [==============================] - 4s 22ms/step - loss: 0.3275 - accuracy: 0.8734 - val_loss: 0.3452 - val_accuracy: 0.8541\n",
            "Epoch 3/10\n",
            "196/196 [==============================] - 4s 22ms/step - loss: 0.2336 - accuracy: 0.9140 - val_loss: 0.3069 - val_accuracy: 0.8690\n",
            "Epoch 4/10\n",
            "196/196 [==============================] - 4s 22ms/step - loss: 0.1824 - accuracy: 0.9366 - val_loss: 0.3265 - val_accuracy: 0.8693\n",
            "Epoch 5/10\n",
            "196/196 [==============================] - 4s 22ms/step - loss: 0.1523 - accuracy: 0.9486 - val_loss: 0.3333 - val_accuracy: 0.8700\n",
            "Epoch 6/10\n",
            "196/196 [==============================] - 4s 22ms/step - loss: 0.1351 - accuracy: 0.9566 - val_loss: 0.3890 - val_accuracy: 0.8598\n",
            "Epoch 7/10\n",
            "196/196 [==============================] - 4s 22ms/step - loss: 0.1164 - accuracy: 0.9636 - val_loss: 0.3946 - val_accuracy: 0.8632\n",
            "Epoch 8/10\n",
            "196/196 [==============================] - 4s 22ms/step - loss: 0.0994 - accuracy: 0.9705 - val_loss: 0.3964 - val_accuracy: 0.8645\n",
            "Epoch 9/10\n",
            "196/196 [==============================] - 5s 24ms/step - loss: 0.0860 - accuracy: 0.9754 - val_loss: 0.4939 - val_accuracy: 0.8592\n",
            "Epoch 10/10\n",
            "196/196 [==============================] - 4s 22ms/step - loss: 0.0776 - accuracy: 0.9780 - val_loss: 0.4614 - val_accuracy: 0.8590\n"
          ]
        }
      ]
    },
    {
      "cell_type": "code",
      "source": [
        "model1.summary()\n",
        "\n",
        "plot_loss(history)\n",
        "\n",
        "plot_accuracy(history)\n",
        "\n",
        "scores = model1.evaluate(X_test_trim, y_test, verbose=2)\n",
        "print(\"%s: %.2f%%\" % (model.metrics_names[1], scores[1]*100))"
      ],
      "metadata": {
        "colab": {
          "base_uri": "https://localhost:8080/",
          "height": 1000
        },
        "id": "mAx2usIvLEXY",
        "outputId": "2df183bd-2c81-422e-c763-4662d2ea7f9a"
      },
      "execution_count": 38,
      "outputs": [
        {
          "output_type": "stream",
          "name": "stdout",
          "text": [
            "Model: \"sequential_14\"\n",
            "_________________________________________________________________\n",
            " Layer (type)                Output Shape              Param #   \n",
            "=================================================================\n",
            " embedding_14 (Embedding)    (None, None, 10)          100000    \n",
            "                                                                 \n",
            " lstm_3 (LSTM)               (None, 14)                1400      \n",
            "                                                                 \n",
            " dense_14 (Dense)            (None, 1)                 15        \n",
            "                                                                 \n",
            "=================================================================\n",
            "Total params: 101,415\n",
            "Trainable params: 101,415\n",
            "Non-trainable params: 0\n",
            "_________________________________________________________________\n",
            "391/391 - 3s - loss: 0.4472 - accuracy: 0.8623 - 3s/epoch - 7ms/step\n",
            "accuracy: 86.23%\n"
          ]
        },
        {
          "output_type": "display_data",
          "data": {
            "text/plain": [
              "<Figure size 720x432 with 1 Axes>"
            ],
            "image/png": "[encoded data removed]"
          },
          "metadata": {
            "needs_background": "light"
          }
        },
        {
          "output_type": "display_data",
          "data": {
            "text/plain": [
              "<Figure size 720x432 with 1 Axes>"
            ],
            "image/png": "[encoded data removed]"
          },
          "metadata": {
            "needs_background": "light"
          }
        }
      ]
    },
    {
      "cell_type": "code",
      "source": [
        "# GRU - complete with model definition, summary, fit and plots.\n",
        "\n",
        "model2 = keras.models.Sequential()\n",
        "model2.add(keras.layers.Embedding(input_dim=num_words, output_dim=10))\n",
        "model2.add(keras.layers.GRU(units = 17))\n",
        "model2.add(keras.layers.Dense(1, activation=\"sigmoid\"))\n",
        "\n",
        "model2.compile(loss=\"binary_crossentropy\", optimizer=\"adam\", metrics=[\"accuracy\"])\n",
        "model2.summary()"
      ],
      "metadata": {
        "id": "l6Oaq6LfsqKa",
        "colab": {
          "base_uri": "https://localhost:8080/"
        },
        "outputId": "8eab5d0e-5333-43fd-93a7-f27dbad0fd2a"
      },
      "execution_count": 34,
      "outputs": [
        {
          "output_type": "stream",
          "name": "stdout",
          "text": [
            "Model: \"sequential_15\"\n",
            "_________________________________________________________________\n",
            " Layer (type)                Output Shape              Param #   \n",
            "=================================================================\n",
            " embedding_15 (Embedding)    (None, None, 10)          100000    \n",
            "                                                                 \n",
            " gru_9 (GRU)                 (None, 17)                1479      \n",
            "                                                                 \n",
            " dense_15 (Dense)            (None, 1)                 18        \n",
            "                                                                 \n",
            "=================================================================\n",
            "Total params: 101,497\n",
            "Trainable params: 101,497\n",
            "Non-trainable params: 0\n",
            "_________________________________________________________________\n"
          ]
        }
      ]
    },
    {
      "cell_type": "code",
      "source": [
        "history = model2.fit(X_train_trim, y_train,\n",
        "                    epochs=10, batch_size=128, validation_data=(X_valid_trim, y_valid))"
      ],
      "metadata": {
        "colab": {
          "base_uri": "https://localhost:8080/"
        },
        "id": "QZ7vDjqHMZpZ",
        "outputId": "4a60e119-5b54-45b2-8f2c-50fac58228dd"
      },
      "execution_count": 35,
      "outputs": [
        {
          "output_type": "stream",
          "name": "stdout",
          "text": [
            "Epoch 1/10\n",
            "196/196 [==============================] - 7s 27ms/step - loss: 0.5474 - accuracy: 0.6944 - val_loss: 0.3540 - val_accuracy: 0.8506\n",
            "Epoch 2/10\n",
            "196/196 [==============================] - 4s 22ms/step - loss: 0.2845 - accuracy: 0.8853 - val_loss: 0.3370 - val_accuracy: 0.8550\n",
            "Epoch 3/10\n",
            "196/196 [==============================] - 4s 22ms/step - loss: 0.2154 - accuracy: 0.9203 - val_loss: 0.3220 - val_accuracy: 0.8691\n",
            "Epoch 4/10\n",
            "196/196 [==============================] - 4s 22ms/step - loss: 0.1759 - accuracy: 0.9374 - val_loss: 0.3610 - val_accuracy: 0.8642\n",
            "Epoch 5/10\n",
            "196/196 [==============================] - 4s 22ms/step - loss: 0.1507 - accuracy: 0.9484 - val_loss: 0.3654 - val_accuracy: 0.8635\n",
            "Epoch 6/10\n",
            "196/196 [==============================] - 5s 25ms/step - loss: 0.1353 - accuracy: 0.9558 - val_loss: 0.3918 - val_accuracy: 0.8594\n",
            "Epoch 7/10\n",
            "196/196 [==============================] - 4s 22ms/step - loss: 0.1186 - accuracy: 0.9618 - val_loss: 0.4871 - val_accuracy: 0.8478\n",
            "Epoch 8/10\n",
            "196/196 [==============================] - 5s 24ms/step - loss: 0.1176 - accuracy: 0.9616 - val_loss: 0.4229 - val_accuracy: 0.8563\n",
            "Epoch 9/10\n",
            "196/196 [==============================] - 4s 22ms/step - loss: 0.1060 - accuracy: 0.9661 - val_loss: 0.4889 - val_accuracy: 0.8514\n",
            "Epoch 10/10\n",
            "196/196 [==============================] - 5s 25ms/step - loss: 0.0894 - accuracy: 0.9742 - val_loss: 0.4807 - val_accuracy: 0.8513\n"
          ]
        }
      ]
    },
    {
      "cell_type": "code",
      "source": [
        "model2.summary()\n",
        "\n",
        "plot_loss(history)\n",
        "\n",
        "plot_accuracy(history)\n",
        "\n",
        "scores = model2.evaluate(X_test_trim, y_test, verbose=2)\n",
        "print(\"%s: %.2f%%\" % (model.metrics_names[1], scores[1]*100))"
      ],
      "metadata": {
        "id": "60Ga5K7ROuTt",
        "colab": {
          "base_uri": "https://localhost:8080/",
          "height": 1000
        },
        "outputId": "58d6ac9a-4c71-4e9a-da30-e0e0ba57c3bb"
      },
      "execution_count": 37,
      "outputs": [
        {
          "output_type": "stream",
          "name": "stdout",
          "text": [
            "Model: \"sequential_15\"\n",
            "_________________________________________________________________\n",
            " Layer (type)                Output Shape              Param #   \n",
            "=================================================================\n",
            " embedding_15 (Embedding)    (None, None, 10)          100000    \n",
            "                                                                 \n",
            " gru_9 (GRU)                 (None, 17)                1479      \n",
            "                                                                 \n",
            " dense_15 (Dense)            (None, 1)                 18        \n",
            "                                                                 \n",
            "=================================================================\n",
            "Total params: 101,497\n",
            "Trainable params: 101,497\n",
            "Non-trainable params: 0\n",
            "_________________________________________________________________\n",
            "391/391 - 3s - loss: 0.4708 - accuracy: 0.8538 - 3s/epoch - 7ms/step\n",
            "accuracy: 85.38%\n"
          ]
        },
        {
          "output_type": "display_data",
          "data": {
            "text/plain": [
              "<Figure size 720x432 with 1 Axes>"
            ],
            "image/png": "[encoded data removed]"
          },
          "metadata": {
            "needs_background": "light"
          }
        },
        {
          "output_type": "display_data",
          "data": {
            "text/plain": [
              "<Figure size 720x432 with 1 Axes>"
            ],
            "image/png": "[encoded data removed]"
          },
          "metadata": {
            "needs_background": "light"
          }
        }
      ]
    },
    {
      "cell_type": "markdown",
      "source": [
        "**[TO COMPLETE]**: In order to perform a fair comparison (definition of fair: models have to use more or less the same number of parameters) between the given RNN model and the other 2 models (LSTM and GRU), how many units do they have to use?\n",
        "\n",
        "**Insert cells (code and text) with results and discussion immediately after this cell** \n",
        "\n"
      ],
      "metadata": {
        "id": "-cvLVMmysdYJ"
      }
    },
    {
      "cell_type": "markdown",
      "source": [
        "In the cells above, the result of accuracy and loss and number of parameters has been drawn. To have a fair comparison the number of unit in each architecture managed in a way to have same number of parameter.\n",
        "\n",
        "* To compaire the training time since all the three architectures have same number of parameters they have quit same training time but not exacly the same since the activation functions are not exacly the same. but teqnically, here, since the simpleRNN has not optimized for GPU computation while others have, so it took more time to train.\n",
        "\n",
        "* To compare the parameter I make the models to have same parameter so the number of units are not equal but generaly, the LSTM model is the most parameter consuming model because of it complex architecture the number of parameters for LSTM follow the bellow furmula:\n",
        "$$params = 4 * ((size-of-input + 1) * size-of-output + size-of-output^2)$$ \n",
        "after LSTM the most parameter consuming model is GRU and after that is SimpleRNN.\n",
        "* To compare accuracy empericaly it we have seen that LSTM is better than GRU and GRU is better than SimpleRNN.\n",
        "\n",
        "\n"
      ],
      "metadata": {
        "id": "PxQYittSTISN"
      }
    },
    {
      "cell_type": "markdown",
      "metadata": {
        "id": "g2JZMtVATw5T"
      },
      "source": [
        "### Bidirectional LSTM\n",
        "In conclusion, let's also have a look at the performances of a bidirectional LSTM instead of a simple LSTM. In Keras, it is possible to define a bidirectional layer by using [tf.keras.layers.Bidirectional](https://www.tensorflow.org/api_docs/python/tf/keras/layers/Bidirectional). Note that this wrapper requires as argument a layer, in our case we use [tf.keras.layers.LSTM](https://www.tensorflow.org/api_docs/python/tf/keras/layers/LSTM)\n"
      ]
    },
    {
      "cell_type": "code",
      "metadata": {
        "id": "svybeLNAedBf"
      },
      "source": [
        "model_bidirectional = keras.models.Sequential()\n",
        "model_bidirectional.add(keras.layers.Embedding(input_dim=num_words, output_dim=10))\n",
        "model_bidirectional.add(keras.layers.Bidirectional(keras.layers.LSTM(32)))\n",
        "model_bidirectional.add(keras.layers.Dense(1, activation=\"sigmoid\"))\n",
        "\n",
        "model_bidirectional.compile(loss=\"binary_crossentropy\", optimizer=\"adam\", metrics=[\"accuracy\"])\n",
        "\n",
        "model_bidirectional.summary()\n",
        "\n",
        "history = model_bidirectional.fit(X_train_trim, y_train,\n",
        "                    epochs=5, batch_size=128, validation_data=(X_valid_trim, y_valid))"
      ],
      "execution_count": null,
      "outputs": []
    },
    {
      "cell_type": "code",
      "metadata": {
        "id": "qICZr3WpfNI8"
      },
      "source": [
        "plot_loss(history)\n",
        "\n",
        "plot_accuracy(history)\n",
        "\n",
        "scores = model_bidirectional.evaluate(X_test_trim, y_test, verbose=2)\n",
        "print(\"%s: %.2f%%\" % (model_bidirectional.metrics_names[1], scores[1]*100))"
      ],
      "execution_count": null,
      "outputs": []
    },
    {
      "cell_type": "markdown",
      "metadata": {
        "id": "CIv9BmpdCxaa"
      },
      "source": [
        "## Exercise 4.3: Transformer"
      ]
    },
    {
      "cell_type": "markdown",
      "metadata": {
        "id": "DzcjLF0E99yj"
      },
      "source": [
        "Let's now use a [Transformer](https://arxiv.org/abs/1706.03762) to perform the same task considered in the previous exercise. To define the Transformer we will define a class that inherits from [tensorflow.keras.layers.Layers](https://www.tensorflow.org/api_docs/python/tf/keras/layers/Layer). This class represents a layer, that is a callable object that takes as input one or more tensors and that outputs one or more tensors. It involves computation, defined in the `call()` method, and a state (weight variables), both defined in the constructor. In the following cell, we will override these two methods in order to define the TransformerLayer. \n",
        "\n",
        "The structure of the transformer is defined as follows:\n",
        "*   A multi-head attention layer, defined using the [tensorflow.keras.layers.MultiHeadAttention](https://www.tensorflow.org/api_docs/python/tf/keras/layers/MultiHeadAttention)\n",
        "*   Dropout operation (*dropout_att*)\n",
        "*   Layer Normalization (*layernorm_att*)\n",
        "*   A feedforward Neural Network, defenid by using keras.Sequential, and Dense layer\n",
        "*   Dropout operation (*dropout_fnn*)\n",
        "*   Layer Normalization (*layernorm_fnn*) that has in input the summation of the attention layer output and the feedforward NN output\n",
        "\n"
      ]
    },
    {
      "cell_type": "code",
      "metadata": {
        "id": "t6iDxAJtCxCa"
      },
      "source": [
        "from tensorflow.keras import layers\n",
        "\n",
        "class TransformerBlock(layers.Layer):\n",
        "    def __init__(self, embed_dim, num_heads, ff_dim, rate=0.1):\n",
        "        super(TransformerBlock, self).__init__()\n",
        "        self.att = layers.MultiHeadAttention(num_heads=num_heads, key_dim=embed_dim)\n",
        "        self.ffn = keras.Sequential(\n",
        "            [layers.Dense(ff_dim, activation=\"relu\"), layers.Dense(embed_dim),]\n",
        "        )\n",
        "        self.layernorm_att = layers.LayerNormalization(epsilon=1e-6)\n",
        "        self.layernorm_fnn = layers.LayerNormalization(epsilon=1e-6)\n",
        "        self.dropout_att = layers.Dropout(rate)\n",
        "        self.dropout_fnn = layers.Dropout(rate)\n",
        "\n",
        "    def call(self, inputs, training):\n",
        "        attn_output = self.att(inputs, inputs)\n",
        "        attn_output = self.dropout_att(attn_output, training=training)\n",
        "        out1 = self.layernorm_att(inputs + attn_output)\n",
        "        ffn_output = self.ffn(out1)\n",
        "        ffn_output = self.dropout_fnn(ffn_output, training=training)\n",
        "        return self.layernorm_fnn(out1 + ffn_output)"
      ],
      "execution_count": 39,
      "outputs": []
    },
    {
      "cell_type": "markdown",
      "source": [
        "Due to memory constraints of Transformers the maxlen is reduced to 200."
      ],
      "metadata": {
        "id": "o-_SJbJUzHRV"
      }
    },
    {
      "cell_type": "code",
      "source": [
        "maxlen = 200\n",
        "X_train_trim = keras.preprocessing.sequence.pad_sequences(X_train, maxlen=maxlen)\n",
        "X_test_trim = keras.preprocessing.sequence.pad_sequences(X_test, maxlen=maxlen)\n",
        "X_valid_trim = keras.preprocessing.sequence.pad_sequences(X_valid, maxlen=maxlen)"
      ],
      "metadata": {
        "id": "aqylIExczGy5"
      },
      "execution_count": 40,
      "outputs": []
    },
    {
      "cell_type": "markdown",
      "metadata": {
        "id": "IDekYZOtFKei"
      },
      "source": [
        "To manage the sequential structure of the input, we need to create an embedding of the word + a positional embedding. To perform this operation, similarly to what we did for defining the Transformer layer, we define a new class that inherits from *layer.Layers*. In the unbatched (i.e. single-input) version, this class has in input the index of a word and computes 2 embeddings: the embedding of the word, and the positional embedding. Finally, the method returns the summation of these two embeddings."
      ]
    },
    {
      "cell_type": "code",
      "metadata": {
        "id": "w3W8teD2GRPD"
      },
      "source": [
        "class TokenAndPositionEmbedding(layers.Layer):\n",
        "    def __init__(self, maxlen, vocab_size, embed_dim):\n",
        "        super(TokenAndPositionEmbedding, self).__init__()\n",
        "        self.token_emb = layers.Embedding(input_dim=vocab_size, output_dim=embed_dim)\n",
        "        self.pos_emb = layers.Embedding(input_dim=maxlen, output_dim=embed_dim)\n",
        "\n",
        "    def call(self, x):\n",
        "        maxlen = tf.shape(x)[-1]\n",
        "        positions = tf.range(start=0, limit=maxlen, delta=1)\n",
        "        positions = self.pos_emb(positions)\n",
        "        x = self.token_emb(x)\n",
        "        return x + positions"
      ],
      "execution_count": 41,
      "outputs": []
    },
    {
      "cell_type": "markdown",
      "metadata": {
        "id": "S3SaW5NuGvAB"
      },
      "source": [
        "Now we can define the Transformer model. The model is defined as follows:\n",
        "\n",
        "*   the Input layer\n",
        "*   the TokenAndPositionEmbedding layer\n",
        "*   the Transformer layer\n",
        "*   2 Dense layers, the second one is the output layer.\n",
        "\n",
        "\n",
        "**[TO COMPLETE]** Experiment with the `embed_dim, num_heads, ff_dim` and discuss the influence of these parameters in the obtained results, considering the accuracy of the output at the time required to perform the training phase. Report the discussion in the cell at the end of the notebook."
      ]
    },
    {
      "cell_type": "code",
      "metadata": {
        "id": "r2mB_q2AGYUH"
      },
      "source": [
        "embed_dim = 16  # Embedding size for each token\n",
        "num_heads = 2  # Number of attention heads\n",
        "ff_dim = 16  # Hidden layer size in feed forward network inside transformer\n",
        "\n",
        "inputs = layers.Input(shape=(maxlen,))\n",
        "embedding_layer = TokenAndPositionEmbedding(maxlen, num_words, embed_dim)\n",
        "x = embedding_layer(inputs)\n",
        "transformer_block = TransformerBlock(embed_dim, num_heads, ff_dim)\n",
        "x = transformer_block(x)\n",
        "x = layers.GlobalAveragePooling1D()(x)\n",
        "x = layers.Dropout(0.1)(x)\n",
        "x = layers.Dense(20, activation=\"relu\")(x)\n",
        "x = layers.Dropout(0.1)(x)\n",
        "outputs = layers.Dense(1, activation=\"sigmoid\")(x)\n",
        "\n",
        "model = keras.Model(inputs=inputs, outputs=outputs)"
      ],
      "execution_count": 47,
      "outputs": []
    },
    {
      "cell_type": "code",
      "source": [
        "model.compile(optimizer=\"adam\", loss=\"binary_crossentropy\", metrics=[\"accuracy\"])\n",
        "history = model.fit(\n",
        "    X_train_trim, y_train, batch_size=128, epochs=5, validation_data=(X_valid_trim, y_valid)\n",
        ")"
      ],
      "metadata": {
        "id": "WYP531vWd9qH",
        "colab": {
          "base_uri": "https://localhost:8080/"
        },
        "outputId": "c09d287c-b0cb-457f-a27b-87b0f9a63b81"
      },
      "execution_count": 48,
      "outputs": [
        {
          "output_type": "stream",
          "name": "stdout",
          "text": [
            "Epoch 1/5\n",
            "196/196 [==============================] - 5s 17ms/step - loss: 0.4695 - accuracy: 0.7670 - val_loss: 0.3295 - val_accuracy: 0.8586\n",
            "Epoch 2/5\n",
            "196/196 [==============================] - 3s 14ms/step - loss: 0.2454 - accuracy: 0.9050 - val_loss: 0.3285 - val_accuracy: 0.8600\n",
            "Epoch 3/5\n",
            "196/196 [==============================] - 3s 14ms/step - loss: 0.1917 - accuracy: 0.9294 - val_loss: 0.3436 - val_accuracy: 0.8642\n",
            "Epoch 4/5\n",
            "196/196 [==============================] - 3s 14ms/step - loss: 0.1586 - accuracy: 0.9450 - val_loss: 0.3648 - val_accuracy: 0.8642\n",
            "Epoch 5/5\n",
            "196/196 [==============================] - 3s 17ms/step - loss: 0.1407 - accuracy: 0.9512 - val_loss: 0.4029 - val_accuracy: 0.8602\n"
          ]
        }
      ]
    },
    {
      "cell_type": "code",
      "metadata": {
        "id": "RF3Bnc3fnFEV",
        "colab": {
          "base_uri": "https://localhost:8080/",
          "height": 798
        },
        "outputId": "9a84d370-1128-47e1-a842-9be66bdc2fca"
      },
      "source": [
        "\n",
        "\n",
        "plot_loss(history)\n",
        "\n",
        "plot_accuracy(history)\n",
        "scores = model.evaluate(X_test_trim, y_test, verbose=2)\n",
        "print(\"%s: %.2f%%\" % (model.metrics_names[1], scores[1]*100))"
      ],
      "execution_count": 49,
      "outputs": [
        {
          "output_type": "stream",
          "name": "stdout",
          "text": [
            "391/391 - 1s - loss: 0.3973 - accuracy: 0.8592 - 1s/epoch - 4ms/step\n",
            "accuracy: 85.92%\n"
          ]
        },
        {
          "output_type": "display_data",
          "data": {
            "text/plain": [
              "<Figure size 720x432 with 1 Axes>"
            ],
            "image/png": "[encoded data removed]"
          },
          "metadata": {
            "needs_background": "light"
          }
        },
        {
          "output_type": "display_data",
          "data": {
            "text/plain": [
              "<Figure size 720x432 with 1 Axes>"
            ],
            "image/png": "[encoded data removed]"
          },
          "metadata": {
            "needs_background": "light"
          }
        }
      ]
    },
    {
      "cell_type": "markdown",
      "source": [
        "**Insert the discussion here**: [TO COMPLETE]: The `embed_dim` is a hyper-parameter that is the output dimension of the transformation of the dictionary in one-hot encoding represention, to a lower dimension represention which many feathers of the primary represention has been preserved the important thing about this hyper-parameter is that it should be way less than the primary one-hot encoding represention. So we have to consider a trade-off between the number of parameter in the whole network and preserving the semantic complexity in the language because we need to reduce the number of parameters for the computational limitation purposes and we need our model to capture the complexity of the semantic of the language in the best way \n",
        "\n",
        "The `num_heads` is a hyper-parameter that control the number of attention heads in the transformer. Changing the number of heads changes the number of learnable parameters. If you have more heads, training will take longer. This is definitely true.When you have several heads per layer the heads are independent of each other. This means that the model can learn different patterns with each head. For example, one head might pay most attention to the next word in each sentence, and another head might pay attention to how nouns and adjectives combine. Having several heads per layer is similar to having several kernels in convolution. Having several heads per layer allows one model to try out several pathways at once. It often turns out that some of the heads are not doing anything useful, but that’s OK because the later layers can learn to ignore the un-useful heads.\n",
        "\n",
        "Finaly the `ff_dim` is the size of the hiden layer in the feed forward layer the more this hyperparameter is the more complexity of hidden represention and number of parameters in the feed forward layer and the whole network is but increasing this hyper parameter may cause the model to overfit.\n",
        "\n",
        "\n",
        "Bellow I described the result of my trial and errors for fixing the right values for hyperparameters.\n",
        "\n",
        "1) time: 17.2 s loss: 0.4105 - accuracy: 0.8578 - 1s/epoch - 4ms/step\n",
        "accuracy: 85.78% embed_dim = 16 num_heads = 2 \n",
        "ff_dim = 32\n",
        "\n",
        "2) time: 23 s loss: 0.4298 - accuracy: 0.8553 - 2s/epoch - 4ms/step\n",
        "accuracy: 85.96% 32 2 16 embed_dim = 16 num_heads = 4 \n",
        "ff_dim = 32\n",
        "\n",
        "3) time 15.6 s loss: 0.6929 - accuracy: 0.5053 - 1s/epoch - 4ms/step\n",
        "accuracy: 50.53% embed_dim = 2 num_heads = 2 \n",
        "ff_dim = 32\n",
        "\n",
        "4) time: 5min loss: 0.4276 - accuracy: 0.8509 - 10s/epoch - 27ms/step\n",
        "accuracy: 85.09% embed_dim = 16 num_heads = 2 ff_dim = 16\n"
      ],
      "metadata": {
        "id": "eWIDKexKyJhD"
      }
    }
  ]
}